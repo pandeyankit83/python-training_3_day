{
 "cells": [
  {
   "cell_type": "markdown",
   "metadata": {},
   "source": [
    "#   Python Training Day 3"
   ]
  },
  {
   "cell_type": "markdown",
   "metadata": {},
   "source": [
    "# Day 2 Review / Q&A"
   ]
  },
  {
   "cell_type": "markdown",
   "metadata": {},
   "source": [
    "# <font color = '#526520'> Other Helpful packages for DataScience Workflows </font>\n",
    "\n",
    "Each one of these packages is a tool. Some work well together (e.g. NumPy and SciPy) others can be used a separate building blocks to create complex work flows. \n",
    "\n",
    "\n",
    "* [NumPy](http://www.numpy.org/)\n",
    "* [SciPy](https://www.scipy.org/)\n",
    "* [nltk](http://www.nltk.org/)\n",
    "  - natural language processing toolkit\n",
    "* [Requests](http://docs.python-requests.org/en/master/)\n",
    "  - allows you to interact with websites (e.g. forms, passwords, etc) via python\n",
    "* [glob](https://docs.python.org/3/library/glob.html)\n",
    "  - glob will search a directory and return a list of a files that meet certain criteria\n",
    "  - enables you the search for files using wild-card notation to find files (e.g. *.csv)\n",
    "* [os](https://docs.python.org/3/library/os.html)\n",
    "  - os allows you access to miscellaneous operating system functions. \n",
    "    - used to change working directory in Python\n",
    "    - good for navigating directories / finding files\n",
    "    - e.g. get current working directory\n",
    "* [xlsx writer](http://xlsxwriter.readthedocs.io/)\n",
    "  - package that allows you to access almost all excel functionality via python.\n",
    "  - allows you to read data from excel and write data to excel\n",
    "  - allows you create custom graphs in excel \n",
    "  - allows you automate workbook formatting\n",
    "* [Tkinter](https://docs.python.org/3/library/tk.html)\n",
    "  - gui builder\n",
    "  - good for quickly adding in user functionality to scripts like message dialog and file dialog boxes\n",
    "* [ODBC](https://github.com/mkleehammer/pyodbc/wiki)\n",
    "  - generic database connection API\n"
   ]
  },
  {
   "cell_type": "markdown",
   "metadata": {},
   "source": [
    "# <font color = '#526520'> What Else Can Python Do? </font>\n",
    "\n",
    "This training has introduced Python largely in the context of data analysis, which might leave you wondering, \"I thought Python was general-purpose programming language?! What else can I do with it?\" \n",
    "\n",
    "That is a great question to which the answer is \"**LOTS and LOTS OF COOL STUFF!**\". Let's take a look...\n",
    "\n",
    "* [PyPI: the Python Package Index](https://pypi.python.org/pypi) - this is an repository of over 117K packages covering a variety of topics, domains, and applications.  This list is administered by PyPI admins and apart of the official Python documentation/website.\n",
    "\n",
    "* [Curated List of Awesome Python Resources](https://github.com/vinta/awesome-python) - although not an *offical* Python resource, this is a great list of popular Python packages categorized by task.\n",
    "\n",
    "When you find a package that you want to work with, you're next step is to install the package into your Python environment."
   ]
  },
  {
   "cell_type": "markdown",
   "metadata": {},
   "source": [
    "# <font color = '#526520'> Managing Python Packages </font>\n",
    "\n",
    "## What Is There to Manage?\n",
    "\n",
    "The Anaconda Python Distribution makes life a little easier when getting started with Python as it comes preconfigured with many of the most popular Python packages for data analysis. However, you will come to a point where a package you'd like to use is not included and so you will have to download and install it. Furthermore the packages you use will continue to develop and include new features over time, which will require you to update your packages. All of this, and more, is broadly defined as **package management** and there are tools to make it a simple task.\n",
    "\n",
    "## Conda Install\n",
    "\n",
    "The Anaconda Python Distribution has its own package manager called **conda**. The complete documentation available within the [Conda User Guide: Managing Packages](https://conda.io/docs/user-guide/tasks/manage-pkgs.html), and we will review some of the key commands below.\n",
    "\n",
    "*It is important to note that you will be running these commands within the **terminal or Anaconda Prompt***\n",
    "\n",
    "Also there is a concept of 'environments' within Python, which is a way to have different versions of Python and associated packages all on the same machine. We will skip this for now, but it is mentioned because if you maintain different environments then you will want to specify which environment you are managing. If this is something you want to explore then the [Conda User Guide: Managing Environments](https://conda.io/docs/user-guide/tasks/manage-environments.html) is a good place to start.\n",
    "\n",
    "### Search if a package is available for installation\n",
    "`conda search [package name]`\n",
    "\n",
    "### Return a list of installed packages\n",
    "`conda list`\n",
    "\n",
    "### Install a package\n",
    "`conda install [package name]`\n",
    "\n",
    "### Update a package\n",
    "`conda update [package name]`\n",
    "\n",
    "### Removing a package\n",
    "`conda remove [package name]`\n",
    "\n",
    "## Pip Install\n",
    "\n",
    "Pip is another recommended tool for Python package management which exists independent of Anaconda (although it is included in the distribution and they work in conjunction). Typically you will use the pip install for packages that you cannot download with conda. \n",
    "\n",
    "Again we will cover the basic commands, but it is worth looking through the [Pip documentation](https://pip.pypa.io/en/stable/), especially the *Quickstart* section.\n",
    "\n",
    "### Search if a package is available for installation\n",
    "`pip search [package name]`\n",
    "\n",
    "### Return a list of installed packages\n",
    "`pip list`\n",
    "\n",
    "* If you're using the Anaconda distribution and download a package via pip, you will want to verify that that package was installed and can be referenced by Anaconda by using this command and validating that the package name appears.\n",
    "\n",
    "### Install a package\n",
    "`pip install [package name]`\n",
    "\n",
    "### Update a package\n",
    "`pip install --update [package name]`\n",
    "\n",
    "### Removing a package\n",
    "`pip uninstall [package name]`\n",
    "\n",
    "# <font color = '#526520'> Importing Packages into Python Session </font>\n",
    "\n",
    "Once you have installed the packages you need, all there is left to do is import them into your Python session using the **`import`** keyword.\n",
    "\n",
    "You can also use **`import [...] as [...]`** convention to alias a package name, thereby making it easier to reference."
   ]
  },
  {
   "cell_type": "code",
   "execution_count": 2,
   "metadata": {
    "collapsed": false
   },
   "outputs": [
    {
     "name": "stdout",
     "output_type": "stream",
     "text": [
      "      0\n",
      "0  test\n",
      "1  this \n",
      "\n",
      "absolute value of -100 = 100\n"
     ]
    }
   ],
   "source": [
    "#How to import a package\n",
    "import pandas\n",
    "\n",
    "#Example of package aliasing\n",
    "import numpy as np\n",
    "\n",
    "#Example of calling a package (remember explicit not implicit)\n",
    "#create a Panda's DataFrame\n",
    "df = pandas.DataFrame(['test','this'])\n",
    "print(df,'\\n')\n",
    "\n",
    "#call numpy \n",
    "absolute_value = np.abs(-100)\n",
    "print('absolute value of -100 =', absolute_value)"
   ]
  },
  {
   "cell_type": "markdown",
   "metadata": {},
   "source": [
    "# <font color = '#526520'>APIs</font>\n",
    "\n",
    "## What is an API\n",
    "\n",
    "API stands for \"Application Programming Interface\".\n",
    "\n",
    "Just like a module gives you access to functions, objects, and methods that someone else has built an API will give you access to functions, objects, and methods that are specific to a certain program.\n",
    "\n",
    "An example of an API is an ATM. \n",
    "\n",
    "A lot of the ATM functionality (e.g. set balance number) cannot be accessed by the public. The only way to interact with an ATM is through a set of pre-defined functions that allow you to perform certain allowed actions (e.g. 'deposit money', 'withdrawal money').\n",
    "\n",
    "The same goes for programs with APIs they allow you to access certain functions or information via Python without giving you full access to all of the \"under the hood\" functionality.\n",
    "\n",
    "### Why should I care about APIs?\n",
    "\n",
    "When you combine Python with an API you are able to take advantage of the things that make Python so great (e.g. clean code, simple easy to understand syntax, ability to build scripts quickly) while accessing advanced functionality. \n",
    "\n",
    "Below are some examples of some APIs that have been explored at  . This is by no means an exhaustive list of APIs.\n",
    "\n",
    "For example, Google has huge API library that will allow to access a lot of Google apps via Python.\n",
    "\n",
    "APIs can be thought of sandboxes where the biggest limitation is your own creativity. \n",
    "\n",
    "\n",
    "## Geopy + Google Maps (or other Geocoding APIs)\n",
    "* Can be used to convert addresses to longitude / latitude values \n",
    "* Can also be used to gain access to other attributes about locations (e.g. if looking at city can see what state / country it belongs to).\n",
    "\n",
    "\n",
    "## Tableau \n",
    "* TabPy -- allows you to run python calculations (including module methods) on tableau data and return results\n",
    "* Can build out fields / formulas / change data sources\n",
    "* Save out Tableau data extracts from Python\n",
    "\n",
    "## cx_Oracle / teradata\n",
    "* connect to and run queries in oracle / teradata\n",
    "* can output query results into dataframes or other python data structures\n",
    "* can input data from flat files or dataframes into oracle / teradata tables\n",
    "* can set queries to run automatically at certain times or after certain conditions have been met\n",
    "\n",
    "## Google Analytics\n",
    "* Access Google Analytics data without relying on GUI\n",
    "* Build out custom reports\n",
    "* Automate data downloads\n",
    "\n",
    "## JIRA \n",
    "* Automate ticket updates\n",
    "* Build out custom reports for current tickets\n"
   ]
  },
  {
   "cell_type": "markdown",
   "metadata": {},
   "source": [
    "# <font color = '#526520'> The _\"Pythonic\"_ Way </font>\n",
    "\n",
    "\n",
    "## Less coding more using\n",
    "Python favors less coding and more using. This has resulted in a proliferation of useful modules (aka libraries) that make all kinds of complex functionality possible. \n",
    "\n",
    "If you have a project that requires a complex algorithim -- check the internet there is probably a Python library that can help. \n",
    "\n",
    "Library usage requires some discretion, but in most cases can make it incredibly easy to piece together complex workflows with minimal effort. \n",
    "\n",
    "\n",
    "## One-liners\n",
    "Python coders like to play \"code golf\" when they program -- meaning that they often will try to develop programs using as few lines of code as possible. \n",
    "\n",
    "There are many 'Pythonic' short cuts that you may want to explore as your skills progress.\n",
    "\n",
    "Having an understanding of these will not only make your code cleaner, easier to understand, and more efficient but will also help you understand why certain approaches are preferred on popular help sites like Stack Overflow.\n",
    "\n",
    "* [List Comprehensions](http://treyhunner.com/2015/12/python-list-comprehensions-now-in-color/)\n",
    "* [Lambda Functions](https://www.programiz.com/python-programming/anonymous-function)\n",
    "* [Method Chaining](https://stackoverflow.com/questions/41817578/basic-method-chaining)\n",
    "* [Zip Function](https://docs.python.org/3/library/functions.html#zip) \n",
    "\n",
    "\n",
    "## HELP! How to find Python help when you are stuck\n",
    "\n",
    "The good news: Python has a strong open-source community that has created a large amount of tutorials / documentation to help with almost any problem in Python.\n",
    "\n",
    "The bad news: not all sources are created equal -- below is a suggested \"hierarchy of trustworthiness\" for when you are evaluating sources.\n",
    "\n",
    "1. Python documentation / Package documentation (find using Google)\n",
    "2. Stack Overflow (suggest searching for problem in Google and selecting top Stack Overflow link).\n",
    "3. Tutorial websites (e.g.)\n",
    "\n",
    "For more on the philosophy behind writing the best Python code possible check out [Zen of Python](https://www.python.org/dev/peps/pep-0020/)"
   ]
  },
  {
   "cell_type": "markdown",
   "metadata": {},
   "source": [
    "# <font color = '#526520'> Closing Remarks <font>\n",
    "\n",
    "<img src= 'https://i.imgur.com/CfSwf.jpg'/>\n"
   ]
  },
  {
   "cell_type": "markdown",
   "metadata": {},
   "source": [
    "# <font color = '#526520'> Live Coding Exercise </font>\n",
    "\n",
    "This training is by no means an exhaustive exploration of Python, but rather a capable introduction meant to peak your interests and begin your journey into Python programming. You might not be an expert *Pythonista* (yet!), don't fool yourself: you now know enough about Python to start writing scripts and developing programs.\n",
    "\n",
    "Don't believe it?! Let's prove it by working together through a coding exercise in which you will touch upon the following:\n",
    "\n",
    "* Working with the *working directory*\n",
    "* Creating and working with Pandas DataFrames \n",
    "* A little bit of Numpy operations\n",
    "* Defining your own function!\n",
    "* Data I/O\n",
    "\n",
    "Open the *Live_Code.py* file with the Spyder IDE. Using the commented instructions as a guide, we will practice writing a program to read-in data, operate on DataFrames, perform a quintile analysis, and write the results back to disk.\n",
    "\n",
    "*Don't overthink this exercise, the task can be completed in less than 30 lines of actual code*\n",
    "\n",
    "*This will be a great opportunity to really **warm-up to the documentation** and get used to finding answers to your questions online*\n"
   ]
  },
  {
   "cell_type": "markdown",
   "metadata": {},
   "source": [
    "# <font color = '#526520'> Example Time </font>"
   ]
  }
 ],
 "metadata": {
  "kernelspec": {
   "display_name": "Python 3",
   "language": "python",
   "name": "python3"
  },
  "language_info": {
   "codemirror_mode": {
    "name": "ipython",
    "version": 3
   },
   "file_extension": ".py",
   "mimetype": "text/x-python",
   "name": "python",
   "nbconvert_exporter": "python",
   "pygments_lexer": "ipython3",
   "version": "3.6.0"
  }
 },
 "nbformat": 4,
 "nbformat_minor": 2
}
